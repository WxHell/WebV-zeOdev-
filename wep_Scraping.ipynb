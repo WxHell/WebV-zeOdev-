{
 "cells": [
  {
   "cell_type": "markdown",
   "metadata": {},
   "source": [
    "# Web Kazıma\n",
    "Web Kazıma Yönmtemlerini öğreneceğiz"
   ]
  },
  {
   "cell_type": "markdown",
   "metadata": {},
   "source": [
    "pip install beatifulsoup4"
   ]
  },
  {
   "cell_type": "code",
   "execution_count": 5,
   "metadata": {},
   "outputs": [
    {
     "name": "stdout",
     "output_type": "stream",
     "text": [
      "Collecting requests\n",
      "  Downloading requests-2.31.0-py3-none-any.whl.metadata (4.6 kB)\n",
      "Collecting charset-normalizer<4,>=2 (from requests)\n",
      "  Downloading charset_normalizer-3.3.2-cp311-cp311-win_amd64.whl.metadata (34 kB)\n",
      "Collecting idna<4,>=2.5 (from requests)\n",
      "  Downloading idna-3.6-py3-none-any.whl.metadata (9.9 kB)\n",
      "Collecting urllib3<3,>=1.21.1 (from requests)\n",
      "  Downloading urllib3-2.2.1-py3-none-any.whl.metadata (6.4 kB)\n",
      "Collecting certifi>=2017.4.17 (from requests)\n",
      "  Downloading certifi-2024.2.2-py3-none-any.whl.metadata (2.2 kB)\n",
      "Downloading requests-2.31.0-py3-none-any.whl (62 kB)\n",
      "   ---------------------------------------- 0.0/62.6 kB ? eta -:--:--\n",
      "   ---------------------------------------- 62.6/62.6 kB 1.6 MB/s eta 0:00:00\n",
      "Downloading certifi-2024.2.2-py3-none-any.whl (163 kB)\n",
      "   ---------------------------------------- 0.0/163.8 kB ? eta -:--:--\n",
      "   --------------------------- ------------ 112.6/163.8 kB 6.4 MB/s eta 0:00:01\n",
      "   ---------------------------------------- 163.8/163.8 kB 2.0 MB/s eta 0:00:00\n",
      "Downloading charset_normalizer-3.3.2-cp311-cp311-win_amd64.whl (99 kB)\n",
      "   ---------------------------------------- 0.0/99.9 kB ? eta -:--:--\n",
      "   ---------------------------------------- 99.9/99.9 kB ? eta 0:00:00\n",
      "Downloading idna-3.6-py3-none-any.whl (61 kB)\n",
      "   ---------------------------------------- 0.0/61.6 kB ? eta -:--:--\n",
      "   ---------------------------------------- 61.6/61.6 kB ? eta 0:00:00\n",
      "Downloading urllib3-2.2.1-py3-none-any.whl (121 kB)\n",
      "   ---------------------------------------- 0.0/121.1 kB ? eta -:--:--\n",
      "   ---------------------------------------- 121.1/121.1 kB 7.4 MB/s eta 0:00:00\n",
      "Installing collected packages: urllib3, idna, charset-normalizer, certifi, requests\n",
      "Successfully installed certifi-2024.2.2 charset-normalizer-3.3.2 idna-3.6 requests-2.31.0 urllib3-2.2.1\n"
     ]
    }
   ],
   "source": [
    "#pip install beautifulsoup4\n",
    "#!pip install requests"
   ]
  },
  {
   "cell_type": "code",
   "execution_count": 6,
   "metadata": {},
   "outputs": [],
   "source": [
    "from bs4 import BeautifulSoup\n",
    "import requests"
   ]
  },
  {
   "cell_type": "code",
   "execution_count": 32,
   "metadata": {},
   "outputs": [],
   "source": [
    "\n",
    "def al():\n",
    "  url = \"http://localhost:8000/\"\n",
    "  response = requests.get(url)\n",
    "  soup = BeautifulSoup(response.content, 'html.parser')\n",
    "  return soup"
   ]
  },
  {
   "cell_type": "code",
   "execution_count": 8,
   "metadata": {},
   "outputs": [
    {
     "data": {
      "text/plain": [
       "<!DOCTYPE html>\n",
       "\n",
       "<html lang=\"tr\">\n",
       "<head>\n",
       "<meta charset=\"utf-8\"/>\n",
       "<meta content=\"width=device-width, initial-scale=1.0\" name=\"viewport\"/>\n",
       "<title>Document</title>\n",
       "<link <=\"\" head=\"\" href=\"stl.css\" rel=\"style\"/>\n",
       "<body>\n",
       "<h1> Game Engine </h1>\n",
       "<p id=\"special\"> Unity </p>\n",
       "<div id=\"container\">\n",
       "<ul>\n",
       "<li><a class=\"link\" href=\"\">Link 2</a></li>\n",
       "<li><a class=\"link\" href=\"\">Link 2</a></li>\n",
       "<li><a class=\"link\" href=\"\">Link 2</a></li>\n",
       "<li><a class=\"link\" href=\"\">Link 3</a></li>\n",
       "<li><a class=\"link\" href=\"\">Link 4</a></li>\n",
       "<li><a class=\"link\" href=\"\">Link 5</a></li>\n",
       "<li><a class=\"link\" href=\"\">Link 6</a></li>\n",
       "<li><a href=\"\">Link 7</a></li>\n",
       "<li><a href=\"\">Link 1</a></li>\n",
       "<li><a href=\"\">Link 8</a></li>\n",
       "<li><a href=\"\">Link 9</a></li>\n",
       "<li><a href=\"\">Link 10</a></li>\n",
       "</ul>\n",
       "</div>\n",
       "</body>\n",
       "</head></html>"
      ]
     },
     "execution_count": 8,
     "metadata": {},
     "output_type": "execute_result"
    }
   ],
   "source": [
    "soup"
   ]
  },
  {
   "cell_type": "code",
   "execution_count": 12,
   "metadata": {},
   "outputs": [
    {
     "data": {
      "text/plain": [
       "' Game Engine - Web Scraping Uygulaması'"
      ]
     },
     "execution_count": 12,
     "metadata": {},
     "output_type": "execute_result"
    }
   ],
   "source": [
    "# Gelen sayfadaki ilk h1 etiketine ulaşma\n",
    "b = soup.find(\"h1\")\n",
    "b.text"
   ]
  },
  {
   "cell_type": "code",
   "execution_count": 19,
   "metadata": {},
   "outputs": [
    {
     "data": {
      "text/plain": [
       "[<p id=\"special\"> Unity </p>, <p>Bu paragraf başka bir paragraf</p>]"
      ]
     },
     "execution_count": 19,
     "metadata": {},
     "output_type": "execute_result"
    }
   ],
   "source": [
    "# Gelen sayfadaki tüm paragraf etiketlerini bir liste halinde alma\n",
    "paragraflar = soup.find_all(\"p\")\n",
    "paragraflar"
   ]
  },
  {
   "cell_type": "code",
   "execution_count": 20,
   "metadata": {},
   "outputs": [
    {
     "name": "stdout",
     "output_type": "stream",
     "text": [
      " Unity \n",
      "Bu paragraf başka bir paragraf\n"
     ]
    }
   ],
   "source": [
    "for paragraf in paragraflar:\n",
    "  print(paragraf.text)"
   ]
  },
  {
   "cell_type": "code",
   "execution_count": 24,
   "metadata": {},
   "outputs": [
    {
     "data": {
      "text/plain": [
       "' Unity '"
      ]
     },
     "execution_count": 24,
     "metadata": {},
     "output_type": "execute_result"
    }
   ],
   "source": [
    "# Tüm paragraflar içerisinde id özelliğine sahip olanı ayırt etme\n",
    "special=soup.find(\"p\", id=\"special\")\n",
    "special.text"
   ]
  },
  {
   "cell_type": "code",
   "execution_count": 33,
   "metadata": {},
   "outputs": [
    {
     "data": {
      "text/plain": [
       "[<a class=\"link\" href=\"http://google.com/1\">Link 1</a>,\n",
       " <a class=\"link\" href=\"http://google.com/2\">Link 2</a>,\n",
       " <a class=\"link\" href=\"http://google.com/3\">Link 3</a>,\n",
       " <a class=\"link\" href=\"http://google.com/4\">Link 4</a>,\n",
       " <a class=\"link\" href=\"http://google.com/5\">Link 5</a>,\n",
       " <a class=\"link\" href=\"http://google.com/6\">Link 6</a>,\n",
       " <a href=\"http://google.com/7\">Link 7</a>,\n",
       " <a href=\"http://google.com/8\">Link 8</a>,\n",
       " <a href=\"http://google.com/9\">Link 9</a>,\n",
       " <a href=\"http://google.com/10\">Link 10</a>]"
      ]
     },
     "execution_count": 33,
     "metadata": {},
     "output_type": "execute_result"
    }
   ],
   "source": [
    "soup=al()\n",
    "# Tüm linklere ulaşma\n",
    "linkler = soup.find_all(\"a\")\n",
    "linkler"
   ]
  },
  {
   "cell_type": "code",
   "execution_count": 40,
   "metadata": {},
   "outputs": [
    {
     "name": "stdout",
     "output_type": "stream",
     "text": [
      "Link 1 http://google.com/1\n",
      "Link 2 http://google.com/2\n",
      "Link 3 http://google.com/3\n",
      "Link 4 http://google.com/4\n",
      "Link 5 http://google.com/5\n",
      "Link 6 http://google.com/6\n"
     ]
    }
   ],
   "source": [
    "for link in linkler:\n",
    "  if link[\"class\"]!=\"link\":\n",
    "    print(link.text, link[\"href\"])"
   ]
  },
  {
   "cell_type": "code",
   "execution_count": 37,
   "metadata": {},
   "outputs": [
    {
     "data": {
      "text/plain": [
       "[<a class=\"link\" href=\"http://google.com/1\">Link 1</a>,\n",
       " <a class=\"link\" href=\"http://google.com/2\">Link 2</a>,\n",
       " <a class=\"link\" href=\"http://google.com/3\">Link 3</a>,\n",
       " <a class=\"link\" href=\"http://google.com/4\">Link 4</a>,\n",
       " <a class=\"link\" href=\"http://google.com/5\">Link 5</a>,\n",
       " <a class=\"link\" href=\"http://google.com/6\">Link 6</a>]"
      ]
     },
     "execution_count": 37,
     "metadata": {},
     "output_type": "execute_result"
    }
   ],
   "source": [
    "soup=al()\n",
    "# link class özelliği olan linklere ulaşma\n",
    "linkler = soup.find_all(\"a\", class_=\"link\")\n",
    "linkler"
   ]
  },
  {
   "cell_type": "code",
   "execution_count": 42,
   "metadata": {},
   "outputs": [
    {
     "data": {
      "text/plain": [
       "[<a class=\"link\" href=\"http://google.com/1\">Link 1</a>,\n",
       " <a class=\"link\" href=\"http://google.com/2\">Link 2</a>,\n",
       " <a class=\"link\" href=\"http://google.com/3\">Link 3</a>,\n",
       " <a class=\"link\" href=\"http://google.com/4\">Link 4</a>,\n",
       " <a class=\"link\" href=\"http://google.com/5\">Link 5</a>,\n",
       " <a class=\"link\" href=\"http://google.com/6\">Link 6</a>]"
      ]
     },
     "execution_count": 42,
     "metadata": {},
     "output_type": "execute_result"
    }
   ],
   "source": [
    "# Özel bir div içerisinde yer alan linkleri listeleme\n",
    "dl = soup.find(\"div\", id=\"container\").find_all(\"a\", class_=\"link\")\n",
    "dl"
   ]
  },
  {
   "cell_type": "code",
   "execution_count": null,
   "metadata": {},
   "outputs": [],
   "source": []
  }
 ],
 "metadata": {
  "kernelspec": {
   "display_name": "Python 3",
   "language": "python",
   "name": "python3"
  },
  "language_info": {
   "codemirror_mode": {
    "name": "ipython",
    "version": 3
   },
   "file_extension": ".py",
   "mimetype": "text/x-python",
   "name": "python",
   "nbconvert_exporter": "python",
   "pygments_lexer": "ipython3",
   "version": "3.11.8"
  }
 },
 "nbformat": 4,
 "nbformat_minor": 2
}
