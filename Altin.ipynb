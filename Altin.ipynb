{
 "cells": [
  {
   "cell_type": "code",
   "execution_count": 1,
   "metadata": {},
   "outputs": [],
   "source": [
    "from bs4 import BeautifulSoup\n",
    "import requests"
   ]
  },
  {
   "cell_type": "code",
   "execution_count": 15,
   "metadata": {},
   "outputs": [],
   "source": [
    "url = \"https://bigpara.hurriyet.com.tr/altin/\"\n",
    "response = requests.get(url)\n",
    "soup = BeautifulSoup(response.content, 'html.parser')"
   ]
  },
  {
   "cell_type": "code",
   "execution_count": 17,
   "metadata": {},
   "outputs": [
    {
     "data": {
      "text/plain": [
       "<title>Altın Fiyatları - Canlı Altın Kuru, Bugün Anlık Altın Fiyatı (Güncel)</title>"
      ]
     },
     "execution_count": 17,
     "metadata": {},
     "output_type": "execute_result"
    }
   ],
   "source": [
    "soup.title"
   ]
  },
  {
   "cell_type": "code",
   "execution_count": 21,
   "metadata": {},
   "outputs": [
    {
     "data": {
      "text/plain": [
       "<div class=\"tBody\">\n",
       "<ul>\n",
       "<li class=\"cell010 tal\"><h3><a href=\"/altin/gram-altin-fiyati/\"> ALTIN (TL/GR)</a></h3></li>\n",
       "<li class=\"cell009\">2.244,04</li>\n",
       "<li class=\"cell009\">2.244,42</li>\n",
       "<li class=\"cell009\">-0,01%</li>\n",
       "<li class=\"cell009\">11:12</li>\n",
       "</ul>\n",
       "<ul>\n",
       "<li class=\"cell010 tal\"><h3><a href=\"/altin/22-ayar-bilezik-fiyati/\"> 22 Ayar Bilezik</a></h3></li>\n",
       "<li class=\"cell009\">2.255,08</li>\n",
       "<li class=\"cell009\">2.280,63</li>\n",
       "<li class=\"cell009\">-0,12%</li>\n",
       "<li class=\"cell009\">11:11</li>\n",
       "</ul>\n",
       "<ul>\n",
       "<li class=\"cell010 tal\"><h3><a href=\"/altin/altin-ons-fiyati/\"> Altın (ONS)</a></h3></li>\n",
       "<li class=\"cell009\">2.156,47</li>\n",
       "<li class=\"cell009\">2.156,77</li>\n",
       "<li class=\"cell009\">-0,04%</li>\n",
       "<li class=\"cell009\">11:26</li>\n",
       "</ul>\n",
       "<ul>\n",
       "<li class=\"cell010 tal\"><h3><a href=\"/altin/altin-kg-dolar-fiyati/\"> Altın ($/kg)</a></h3></li>\n",
       "<li class=\"cell009\">68.960,00</li>\n",
       "<li class=\"cell009\">68.970,00</li>\n",
       "<li class=\"cell009\">-0,08%</li>\n",
       "<li class=\"cell009\">11:11</li>\n",
       "</ul>\n",
       "<ul>\n",
       "<li class=\"cell010 tal\"><h3><a href=\"/altin/altin-euro-kg-fiyati/\"> Altın (Euro/kg)</a></h3></li>\n",
       "<li class=\"cell009\">74.969,00</li>\n",
       "<li class=\"cell009\">74.980,00</li>\n",
       "<li class=\"cell009\">-0,08%</li>\n",
       "<li class=\"cell009\">11:11</li>\n",
       "</ul>\n",
       "<ul>\n",
       "<li class=\"cell010 tal\"><h3><a href=\"/altin/cumhuriyet-altini-fiyati/\"> Cumhuriyet Altını</a></h3></li>\n",
       "<li class=\"cell009\">16.541,00</li>\n",
       "<li class=\"cell009\">16.986,00</li>\n",
       "<li class=\"cell009\">-2,12%</li>\n",
       "<li class=\"cell009\">11:12</li>\n",
       "</ul>\n",
       "<ul>\n",
       "<li class=\"cell010 tal\"><h3><a href=\"/altin/yarim-altin-fiyati/\"> Yarım Altın</a></h3></li>\n",
       "<li class=\"cell009\">8.098,00</li>\n",
       "<li class=\"cell009\">8.331,00</li>\n",
       "<li class=\"cell009\">-0,41%</li>\n",
       "<li class=\"cell009\">11:12</li>\n",
       "</ul>\n",
       "<ul>\n",
       "<li class=\"cell010 tal\"><h3><a href=\"/altin/ceyrek-altin-fiyati/\"> Çeyrek Altın</a></h3></li>\n",
       "<li class=\"cell009\">4.073,00</li>\n",
       "<li class=\"cell009\">4.228,00</li>\n",
       "<li class=\"cell009\">-1,56%</li>\n",
       "<li class=\"cell009\">11:12</li>\n",
       "</ul>\n",
       "<ul>\n",
       "<li class=\"cell010 tal\"><h3><a href=\"/altin/resat-altini-fiyati/\"> Reşat Altını</a></h3></li>\n",
       "<li class=\"cell009\">16.573,47</li>\n",
       "<li class=\"cell009\">17.018,95</li>\n",
       "<li class=\"cell009\">-1,93%</li>\n",
       "<li class=\"cell009\">11:12</li>\n",
       "</ul>\n",
       "<ul>\n",
       "<li class=\"cell010 tal\"><h3><a href=\"/altin/kulplu-resat-altini-fiyati/\"> Kulplu Reşat Altını</a></h3></li>\n",
       "<li class=\"cell009\">16.575,69</li>\n",
       "<li class=\"cell009\">17.021,20</li>\n",
       "<li class=\"cell009\">-1,92%</li>\n",
       "<li class=\"cell009\">11:12</li>\n",
       "</ul>\n",
       "<ul>\n",
       "<li class=\"cell010 tal\"><h3><a href=\"/altin/22-ayar-altin-fiyati/\"> 22 Ayar Altın TL/Gr</a></h3></li>\n",
       "<li class=\"cell009\">2.244,56</li>\n",
       "<li class=\"cell009\">2.374,79</li>\n",
       "<li class=\"cell009\">-0,40%</li>\n",
       "<li class=\"cell009\">11:12</li>\n",
       "</ul>\n",
       "<ul>\n",
       "<li class=\"cell010 tal\"><h3><a href=\"/altin/18-ayar-altin-fiyati/\"> 18 Ayar Altın TL/Gr</a></h3></li>\n",
       "<li class=\"cell009\">1.638,15</li>\n",
       "<li class=\"cell009\">1.638,43</li>\n",
       "<li class=\"cell009\">-0,01%</li>\n",
       "<li class=\"cell009\">11:12</li>\n",
       "</ul>\n",
       "<ul>\n",
       "<li class=\"cell010 tal\"><h3><a href=\"/altin/14-ayar-altin-fiyati/\"> 14 Ayar Altın TL/Gr</a></h3></li>\n",
       "<li class=\"cell009\">1.322,50</li>\n",
       "<li class=\"cell009\">1.744,59</li>\n",
       "<li class=\"cell009\">-0,38%</li>\n",
       "<li class=\"cell009\">11:12</li>\n",
       "</ul>\n",
       "<ul>\n",
       "<li class=\"cell010 tal\"><h3><a href=\"/altin/ziynet-2_5-altin-fiyati/\"> Kapalicarsi Ziynet 2.5</a></h3></li>\n",
       "<li class=\"cell009\">39.607,38</li>\n",
       "<li class=\"cell009\">40.252,82</li>\n",
       "<li class=\"cell009\">0,00%</li>\n",
       "<li class=\"cell009\">16:51</li>\n",
       "</ul>\n",
       "<ul>\n",
       "<li class=\"cell010 tal\"><h3><a href=\"/altin/ziynet-5-altin-fiyati/\"> Kapalı Çarşı Beşli Altın</a></h3></li>\n",
       "<li class=\"cell009\">80.204,94</li>\n",
       "<li class=\"cell009\">81.794,53</li>\n",
       "<li class=\"cell009\">0,00%</li>\n",
       "<li class=\"cell009\">16:51</li>\n",
       "</ul>\n",
       "<ul>\n",
       "<li class=\"cell010 tal\"><h3><a href=\"/altin/gremse-altin-fiyati/\"> Gremse Altın</a></h3></li>\n",
       "<li class=\"cell009\">39.607,38</li>\n",
       "<li class=\"cell009\">40.525,47</li>\n",
       "<li class=\"cell009\">0,27%</li>\n",
       "<li class=\"cell009\">16:51</li>\n",
       "</ul>\n",
       "<ul>\n",
       "<li class=\"cell010 tal\"><h3><a href=\"/altin/ata-altin-fiyati/\"> Ata Altın</a></h3></li>\n",
       "<li class=\"cell009\">16.338,04</li>\n",
       "<li class=\"cell009\">16.755,48</li>\n",
       "<li class=\"cell009\">0,27%</li>\n",
       "<li class=\"cell009\">16:51</li>\n",
       "</ul>\n",
       "<ul>\n",
       "<li class=\"cell010 tal\"><h3><a href=\"/altin/tam-altin-fiyati/\"> Tam Altın</a></h3></li>\n",
       "<li class=\"cell009\">15.842,95</li>\n",
       "<li class=\"cell009\">16.160,62</li>\n",
       "<li class=\"cell009\">0,27%</li>\n",
       "<li class=\"cell009\">16:51</li>\n",
       "</ul>\n",
       "<ul>\n",
       "<li class=\"cell010 tal\"><h3><a href=\"/altin/kulce-altin-fiyati/\"> Külçe Altın ($)</a></h3></li>\n",
       "<li class=\"cell009\">74.100,00</li>\n",
       "<li class=\"cell009\">74.150,00</li>\n",
       "<li class=\"cell009\">0,27%</li>\n",
       "<li class=\"cell009\">16:57</li>\n",
       "</ul>\n",
       "<ul>\n",
       "<li class=\"cell010 tal\"><h3><a href=\"/altin/has-altin-fiyati/\"> Has Altın</a></h3></li>\n",
       "<li class=\"cell009\">2.233,03</li>\n",
       "<li class=\"cell009\">2.233,35</li>\n",
       "<li class=\"cell009\">0,00%</li>\n",
       "<li class=\"cell009\">11:11</li>\n",
       "</ul>\n",
       "<ul>\n",
       "<li class=\"cell010 tal\"><h3><a href=\"/altin/hamit-altin-fiyati/\"> Hamit Altın</a></h3></li>\n",
       "<li class=\"cell009\">16.573,47</li>\n",
       "<li class=\"cell009\">17.018,95</li>\n",
       "<li class=\"cell009\">-1,93%</li>\n",
       "<li class=\"cell009\">11:12</li>\n",
       "</ul>\n",
       "</div>"
      ]
     },
     "execution_count": 21,
     "metadata": {},
     "output_type": "execute_result"
    }
   ],
   "source": [
    "div = soup.find(\"div\", class_=\"tBody\")\n",
    "div"
   ]
  },
  {
   "cell_type": "code",
   "execution_count": 22,
   "metadata": {},
   "outputs": [
    {
     "data": {
      "text/plain": [
       "[<a href=\"/altin/gram-altin-fiyati/\"> ALTIN (TL/GR)</a>,\n",
       " <a href=\"/altin/22-ayar-bilezik-fiyati/\"> 22 Ayar Bilezik</a>,\n",
       " <a href=\"/altin/altin-ons-fiyati/\"> Altın (ONS)</a>,\n",
       " <a href=\"/altin/altin-kg-dolar-fiyati/\"> Altın ($/kg)</a>,\n",
       " <a href=\"/altin/altin-euro-kg-fiyati/\"> Altın (Euro/kg)</a>,\n",
       " <a href=\"/altin/cumhuriyet-altini-fiyati/\"> Cumhuriyet Altını</a>,\n",
       " <a href=\"/altin/yarim-altin-fiyati/\"> Yarım Altın</a>,\n",
       " <a href=\"/altin/ceyrek-altin-fiyati/\"> Çeyrek Altın</a>,\n",
       " <a href=\"/altin/resat-altini-fiyati/\"> Reşat Altını</a>,\n",
       " <a href=\"/altin/kulplu-resat-altini-fiyati/\"> Kulplu Reşat Altını</a>,\n",
       " <a href=\"/altin/22-ayar-altin-fiyati/\"> 22 Ayar Altın TL/Gr</a>,\n",
       " <a href=\"/altin/18-ayar-altin-fiyati/\"> 18 Ayar Altın TL/Gr</a>,\n",
       " <a href=\"/altin/14-ayar-altin-fiyati/\"> 14 Ayar Altın TL/Gr</a>,\n",
       " <a href=\"/altin/ziynet-2_5-altin-fiyati/\"> Kapalicarsi Ziynet 2.5</a>,\n",
       " <a href=\"/altin/ziynet-5-altin-fiyati/\"> Kapalı Çarşı Beşli Altın</a>,\n",
       " <a href=\"/altin/gremse-altin-fiyati/\"> Gremse Altın</a>,\n",
       " <a href=\"/altin/ata-altin-fiyati/\"> Ata Altın</a>,\n",
       " <a href=\"/altin/tam-altin-fiyati/\"> Tam Altın</a>,\n",
       " <a href=\"/altin/kulce-altin-fiyati/\"> Külçe Altın ($)</a>,\n",
       " <a href=\"/altin/has-altin-fiyati/\"> Has Altın</a>,\n",
       " <a href=\"/altin/hamit-altin-fiyati/\"> Hamit Altın</a>]"
      ]
     },
     "execution_count": 22,
     "metadata": {},
     "output_type": "execute_result"
    }
   ],
   "source": [
    "linkler = div.find_all(\"a\")\n",
    "linkler"
   ]
  },
  {
   "cell_type": "code",
   "execution_count": 23,
   "metadata": {},
   "outputs": [
    {
     "data": {
      "text/plain": [
       "[' ALTIN (TL/GR)',\n",
       " ' 22 Ayar Bilezik',\n",
       " ' Altın (ONS)',\n",
       " ' Altın ($/kg)',\n",
       " ' Altın (Euro/kg)',\n",
       " ' Cumhuriyet Altını',\n",
       " ' Yarım Altın',\n",
       " ' Çeyrek Altın',\n",
       " ' Reşat Altını',\n",
       " ' Kulplu Reşat Altını',\n",
       " ' 22 Ayar Altın TL/Gr',\n",
       " ' 18 Ayar Altın TL/Gr',\n",
       " ' 14 Ayar Altın TL/Gr',\n",
       " ' Kapalicarsi Ziynet 2.5',\n",
       " ' Kapalı Çarşı Beşli Altın',\n",
       " ' Gremse Altın',\n",
       " ' Ata Altın',\n",
       " ' Tam Altın',\n",
       " ' Külçe Altın ($)',\n",
       " ' Has Altın',\n",
       " ' Hamit Altın']"
      ]
     },
     "execution_count": 23,
     "metadata": {},
     "output_type": "execute_result"
    }
   ],
   "source": [
    "turler=[]\n",
    "for link in linkler:\n",
    "  turler.append(link.text)\n",
    "turler"
   ]
  },
  {
   "cell_type": "code",
   "execution_count": 24,
   "metadata": {},
   "outputs": [
    {
     "data": {
      "text/plain": [
       "[<li class=\"cell009\">2.244,04</li>,\n",
       " <li class=\"cell009\">2.244,42</li>,\n",
       " <li class=\"cell009\">-0,01%</li>,\n",
       " <li class=\"cell009\">11:12</li>,\n",
       " <li class=\"cell009\">2.255,08</li>,\n",
       " <li class=\"cell009\">2.280,63</li>,\n",
       " <li class=\"cell009\">-0,12%</li>,\n",
       " <li class=\"cell009\">11:11</li>,\n",
       " <li class=\"cell009\">2.156,47</li>,\n",
       " <li class=\"cell009\">2.156,77</li>,\n",
       " <li class=\"cell009\">-0,04%</li>,\n",
       " <li class=\"cell009\">11:26</li>,\n",
       " <li class=\"cell009\">68.960,00</li>,\n",
       " <li class=\"cell009\">68.970,00</li>,\n",
       " <li class=\"cell009\">-0,08%</li>,\n",
       " <li class=\"cell009\">11:11</li>,\n",
       " <li class=\"cell009\">74.969,00</li>,\n",
       " <li class=\"cell009\">74.980,00</li>,\n",
       " <li class=\"cell009\">-0,08%</li>,\n",
       " <li class=\"cell009\">11:11</li>,\n",
       " <li class=\"cell009\">16.541,00</li>,\n",
       " <li class=\"cell009\">16.986,00</li>,\n",
       " <li class=\"cell009\">-2,12%</li>,\n",
       " <li class=\"cell009\">11:12</li>,\n",
       " <li class=\"cell009\">8.098,00</li>,\n",
       " <li class=\"cell009\">8.331,00</li>,\n",
       " <li class=\"cell009\">-0,41%</li>,\n",
       " <li class=\"cell009\">11:12</li>,\n",
       " <li class=\"cell009\">4.073,00</li>,\n",
       " <li class=\"cell009\">4.228,00</li>,\n",
       " <li class=\"cell009\">-1,56%</li>,\n",
       " <li class=\"cell009\">11:12</li>,\n",
       " <li class=\"cell009\">16.573,47</li>,\n",
       " <li class=\"cell009\">17.018,95</li>,\n",
       " <li class=\"cell009\">-1,93%</li>,\n",
       " <li class=\"cell009\">11:12</li>,\n",
       " <li class=\"cell009\">16.575,69</li>,\n",
       " <li class=\"cell009\">17.021,20</li>,\n",
       " <li class=\"cell009\">-1,92%</li>,\n",
       " <li class=\"cell009\">11:12</li>,\n",
       " <li class=\"cell009\">2.244,56</li>,\n",
       " <li class=\"cell009\">2.374,79</li>,\n",
       " <li class=\"cell009\">-0,40%</li>,\n",
       " <li class=\"cell009\">11:12</li>,\n",
       " <li class=\"cell009\">1.638,15</li>,\n",
       " <li class=\"cell009\">1.638,43</li>,\n",
       " <li class=\"cell009\">-0,01%</li>,\n",
       " <li class=\"cell009\">11:12</li>,\n",
       " <li class=\"cell009\">1.322,50</li>,\n",
       " <li class=\"cell009\">1.744,59</li>,\n",
       " <li class=\"cell009\">-0,38%</li>,\n",
       " <li class=\"cell009\">11:12</li>,\n",
       " <li class=\"cell009\">39.607,38</li>,\n",
       " <li class=\"cell009\">40.252,82</li>,\n",
       " <li class=\"cell009\">0,00%</li>,\n",
       " <li class=\"cell009\">16:51</li>,\n",
       " <li class=\"cell009\">80.204,94</li>,\n",
       " <li class=\"cell009\">81.794,53</li>,\n",
       " <li class=\"cell009\">0,00%</li>,\n",
       " <li class=\"cell009\">16:51</li>,\n",
       " <li class=\"cell009\">39.607,38</li>,\n",
       " <li class=\"cell009\">40.525,47</li>,\n",
       " <li class=\"cell009\">0,27%</li>,\n",
       " <li class=\"cell009\">16:51</li>,\n",
       " <li class=\"cell009\">16.338,04</li>,\n",
       " <li class=\"cell009\">16.755,48</li>,\n",
       " <li class=\"cell009\">0,27%</li>,\n",
       " <li class=\"cell009\">16:51</li>,\n",
       " <li class=\"cell009\">15.842,95</li>,\n",
       " <li class=\"cell009\">16.160,62</li>,\n",
       " <li class=\"cell009\">0,27%</li>,\n",
       " <li class=\"cell009\">16:51</li>,\n",
       " <li class=\"cell009\">74.100,00</li>,\n",
       " <li class=\"cell009\">74.150,00</li>,\n",
       " <li class=\"cell009\">0,27%</li>,\n",
       " <li class=\"cell009\">16:57</li>,\n",
       " <li class=\"cell009\">2.233,03</li>,\n",
       " <li class=\"cell009\">2.233,35</li>,\n",
       " <li class=\"cell009\">0,00%</li>,\n",
       " <li class=\"cell009\">11:11</li>,\n",
       " <li class=\"cell009\">16.573,47</li>,\n",
       " <li class=\"cell009\">17.018,95</li>,\n",
       " <li class=\"cell009\">-1,93%</li>,\n",
       " <li class=\"cell009\">11:12</li>]"
      ]
     },
     "execution_count": 24,
     "metadata": {},
     "output_type": "execute_result"
    }
   ],
   "source": [
    "fiyatlar = div.find_all(\"li\", class_=\"cell009\")\n",
    "fiyatlar"
   ]
  },
  {
   "cell_type": "code",
   "execution_count": 29,
   "metadata": {},
   "outputs": [],
   "source": [
    "alislar=[]\n",
    "satislar=[]\n",
    "for i in range(len(fiyatlar)):\n",
    "  if i%4==0:\n",
    "    alislar.append(fiyatlar[i].text)\n",
    "  if i%4==1:\n",
    "    satislar.append(fiyatlar[i].text)"
   ]
  },
  {
   "cell_type": "code",
   "execution_count": 31,
   "metadata": {},
   "outputs": [
    {
     "name": "stdout",
     "output_type": "stream",
     "text": [
      "Altın Alış Satış\n",
      " ALTIN (TL/GR) 2.244,04 2.244,42\n",
      " 22 Ayar Bilezik 2.255,08 2.280,63\n",
      " Altın (ONS) 2.156,47 2.156,77\n",
      " Altın ($/kg) 68.960,00 68.970,00\n",
      " Altın (Euro/kg) 74.969,00 74.980,00\n",
      " Cumhuriyet Altını 16.541,00 16.986,00\n",
      " Yarım Altın 8.098,00 8.331,00\n",
      " Çeyrek Altın 4.073,00 4.228,00\n",
      " Reşat Altını 16.573,47 17.018,95\n",
      " Kulplu Reşat Altını 16.575,69 17.021,20\n",
      " 22 Ayar Altın TL/Gr 2.244,56 2.374,79\n",
      " 18 Ayar Altın TL/Gr 1.638,15 1.638,43\n",
      " 14 Ayar Altın TL/Gr 1.322,50 1.744,59\n",
      " Kapalicarsi Ziynet 2.5 39.607,38 40.252,82\n",
      " Kapalı Çarşı Beşli Altın 80.204,94 81.794,53\n",
      " Gremse Altın 39.607,38 40.525,47\n",
      " Ata Altın 16.338,04 16.755,48\n",
      " Tam Altın 15.842,95 16.160,62\n",
      " Külçe Altın ($) 74.100,00 74.150,00\n",
      " Has Altın 2.233,03 2.233,35\n",
      " Hamit Altın 16.573,47 17.018,95\n"
     ]
    }
   ],
   "source": [
    "print(\"Altın\", \"Alış\", \"Satış\")\n",
    "for i in range(len(turler)):\n",
    "  print(turler[i], alislar[i], satislar[i])"
   ]
  },
  {
   "cell_type": "code",
   "execution_count": null,
   "metadata": {},
   "outputs": [],
   "source": []
  }
 ],
 "metadata": {
  "kernelspec": {
   "display_name": "Python 3",
   "language": "python",
   "name": "python3"
  },
  "language_info": {
   "codemirror_mode": {
    "name": "ipython",
    "version": 3
   },
   "file_extension": ".py",
   "mimetype": "text/x-python",
   "name": "python",
   "nbconvert_exporter": "python",
   "pygments_lexer": "ipython3",
   "version": "3.11.8"
  }
 },
 "nbformat": 4,
 "nbformat_minor": 2
}
