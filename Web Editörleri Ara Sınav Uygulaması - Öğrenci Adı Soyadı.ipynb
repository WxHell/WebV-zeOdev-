{
 "cells": [
  {
   "cell_type": "markdown",
   "id": "21787356-387c-45ff-82c6-078313f3c7bd",
   "metadata": {},
   "source": [
    "# Web Editörleri Ara Sınav Uygulaması\n",
    "\n",
    "### Talimatlar:\n",
    "* <font color=red>Bilgisayarın Görmesi (Computer Vision)</font> ile ilgili OpenCV kütüphanesinin kullanımını anlatan bir uygulama kılavuzu hazırlayınız.\n",
    "* Klavuzda yer alan başlık ve içerik yapısı aşağıdaki gibi olacaktır.\n",
    "* Dosyayı hazırladıktan sonra Github üzerinde bir hesap açıp, bu dosyayı oraya yükleyip, web adresini bu hücrece verilen yere yazınız.\n",
    "* Bu dosyayı ayrıca DBS üzerinde açılan sınav ödevi etkinliğine yükleyiniz.\n",
    "* Bu dosyayı hazırladıktan sonra DBS'ye yüklerken mutlaka dosya adını değiştirerek Kendi Adınızı yazınız. Github'a yüklerken dosya adını konu başlığı ile değiştiriniz.\n",
    "\n",
    "### Öğrenci Bilgileri\n",
    "\n",
    "Öğrenci bilgilerini yazmak için <u>buraya</u> çift tıklayınız.\n",
    "* Adı Soyadı:Alper Berk Kömpe   \n",
    "* Öğrenci No:213302005\n",
    "* Dosyanın Github adresi:https://github.com/WxHell/Web-Edit-r--Vize\n"
   ]
  },
  {
   "cell_type": "markdown",
   "id": "a90db1ba-6346-456c-b18f-a494c03a7eef",
   "metadata": {},
   "source": [
    "# Computer Vision\n",
    "\n",
    "Computer vision, bilgisayarların dijital görüntüleri işleyerek anlamalarını ve yorumlamalarını sağlayan bir alanı ifade eder. Temel olarak, bilgisayarlar, kameralardan veya diğer görüntüleme cihazlarından alınan görüntüleri analiz eder, nesneleri tanır, sahneleri anlar ve hatta hareketi izler. Bu, genellikle görüntü işleme, makine öğrenimi ve yapay zeka tekniklerini içeren çok disiplinli bir alandır.\n",
    "\n",
    "Gelişmiş bilgisayar görüşü sistemleri, insan görüşünün birçok yönünü taklit eder. Örneğin, nesneleri tanıma, yüz tanıma, hareket izleme ve derinlik algılama gibi görevleri yerine getirebilirler. Bununla birlikte, bilgisayarlar, görüntüler üzerinde işlem yaparken insanlardan farklı olarak, bu işlemi matematiksel algoritmalar ve veri analizi yoluyla gerçekleştirirler.\n",
    "\n",
    "Bilgisayar görüşü, birçok endüstride çeşitli uygulamalara sahiptir. Örneğin, otomotiv endüstrisinde, sürücüsüz araçların yol koşullarını algılamak için kullanılabilir. Sağlık sektöründe, tıbbi görüntülerin analizi için kullanılabilir ve doktorlara teşhis koymak için yardımcı olabilir. Perakende sektöründe, müşterilerin mağazalarda gezinirken alışveriş alışkanlıklarını analiz etmek için kullanılabilir.\n",
    "\n",
    "Bilgisayar görüşü alanı hızla gelişmektedir ve gelecekte daha da önemli hale gelecektir. Yeni derin öğrenme teknikleri ve artan hesaplama gücü, daha karmaşık ve hassas görüntü işleme sistemlerinin geliştirilmesine olanak tanımaktadır. Bu da birçok endüstri için yenilikçi ve etkili çözümler sağlayabilir."
   ]
  },
  {
   "cell_type": "markdown",
   "id": "ebfa1415-77ef-4991-9a36-5cfa1cb92932",
   "metadata": {},
   "source": [
    "### OpenCv Kütüphanesi Kullanımı\n",
    "OpenCv kütüphanesi kullanarak aşağıdaki işlemler yapılabilir:\n",
    "\n",
    "1- \n",
    "2- \n",
    "3- \n",
    ".\n",
    "."
   ]
  },
  {
   "cell_type": "markdown",
   "id": "703fc57b",
   "metadata": {},
   "source": []
  },
  {
   "cell_type": "markdown",
   "id": "bf8597a7-af19-4875-9ea5-9fb77b63b804",
   "metadata": {},
   "source": [
    "### 0- Kütüphanenin kurulumu"
   ]
  },
  {
   "cell_type": "code",
   "execution_count": null,
   "id": "e8300d50-497c-42e1-ac2b-cc458bffa579",
   "metadata": {},
   "outputs": [],
   "source": [
    "pip install opencv-python \n",
    "pip install matplotlib"
   ]
  },
  {
   "cell_type": "markdown",
   "id": "3a012d5b-7d9d-4b64-82fd-0539628cd9ab",
   "metadata": {},
   "source": [
    "### 1- "
   ]
  },
  {
   "cell_type": "code",
   "execution_count": null,
   "id": "16af5290-9980-42ea-86f9-c4266926ae24",
   "metadata": {},
   "outputs": [],
   "source": [
    "# Yukarıya yazdığınız işlem listesini teker teker örnek kodlarla ve kodlara yapacağınız açıklamalarla anlatınız.\n",
    "pip install opencv-python #opencv pip install openc-python ile opencv kütüphanesini python için indiriyoruz\n",
    "pip install matplotlib #pip install matplotlib komutu ile python için Matplotlib kütüphanesini indiriyoruz.\n",
    "\n",
    "\n"
   ]
  },
  {
   "cell_type": "markdown",
   "id": "474f1e1f-1f51-4097-b13b-2997d2f13464",
   "metadata": {},
   "source": [
    "### 2- "
   ]
  },
  {
   "cell_type": "code",
   "execution_count": null,
   "id": "3be2c9b7-6708-4de3-9ab5-215ce741fef0",
   "metadata": {},
   "outputs": [],
   "source": [
    "import cv2 #opencv kütüphanesini python ortamına dahil eder.\n",
    "from matplotlib import pyplot as plt #bu satır  matplotlib kütüphanesinden sadece pyplot modülünü içe aktarır ve ona plt  adını verir.\n",
    "import numpy as np #bu satır NumPy kütüphanesini python ortamına dahil eder ve ona np  adını verir\n",
    "\n",
    "\n",
    "\n"
   ]
  },
  {
   "cell_type": "markdown",
   "id": "1384bf1c-b05d-4ff2-a44b-0740b99eba31",
   "metadata": {},
   "source": [
    "### 3- (İhtiyaç duyduğunuz kadar bu başlıktan çoğaltarak aşağıya konu anlatımına devam ediniz.)"
   ]
  },
  {
   "cell_type": "code",
   "execution_count": null,
   "id": "b265a851-406a-49c5-af2f-3e8cfaf6087f",
   "metadata": {},
   "outputs": [],
   "source": [
    "img_path = \"/Users/alper/Desktop/WebScraping\\wp10411573.webp\" #img_path değişkenine resmin dosya konumunu yazıp resmi atarız.\n",
    "img = cv2.imread(img_path) #img değişkeni bu NumPy dizisini içerir ve görüntünün piksel değerlerini img değişkenine atar\n",
    "print(img.shape) #img shape resminin yükseklik genişlik ve kanals sayısını print ile çıktısını verir.\n",
    "#çıktısı budur (960, 1280, 3) \n",
    "\n",
    "\n"
   ]
  },
  {
   "cell_type": "code",
   "execution_count": null,
   "id": "1f8e4f00-3502-461b-aadf-2b4f2b72b9d7",
   "metadata": {},
   "outputs": [],
   "source": [
    "siyah_beyaz_img = cv2.cvtColor(img, cv2.COLOR_BGR2GRAY) #bu kod ile cv2.COLOR_BGR2GRAY ile siyah beyaz renge dönüştürülür.\n",
    "plt.imshow(siyah_beyaz_img, cmap='gray') #plt.imshow fonksiyonu kullanılarak siyah beyaz görüntü matplotlib kütüphanesi \n",
    "#ie gösterilir. cmap='gray' ile gri tonlamalı bir renk  kullanılarak görüntünün doğru şekilde gösterilmesi sağlanır.\n",
    "plt.axis('off')  #plt.axis() fonksiyonu kullanarak eksenler kapatılır b, oluşturulan görüntüyü çevreleyen eksenlerin kapatılmasını sağlar.\n",
    "plt.show() #matplotlib kütüphanesi ile oluşturulan resim gösterilir."
   ]
  },
  {
   "cell_type": "code",
   "execution_count": null,
   "id": "cdd6cedb-70b0-4b92-bb7e-406f08523a2e",
   "metadata": {},
   "outputs": [],
   "source": [
    "output2 = cv2.blur(gray_image, (10, 10)) #resim bulanıklaştırılır\n",
    "plt.imshow(output2) #bulanıklaşan görüntü\n",
    "plt.show()"
   ]
  },
  {
   "cell_type": "code",
   "execution_count": null,
   "id": "5cc6ca5b-4cdb-4c00-bb8f-4f372fe40855",
   "metadata": {},
   "outputs": [],
   "source": [
    "(h, w) = img.shape[:2] #Bu satırda, img adlı görüntünün yüksekliği (h) ve genişliği (w) alınır. img.shape ifadesi, görüntünün boyutlarını verir. [:2] dilimleme işlemi, \n",
    "#boyutlardan yalnızca ilk iki öğeyi (yükseklik ve genişlik) alır.\n",
    "center = (w / 2, h / 2) #Bu satırda, görüntünün merkezi noktası hesaplanır. Merkez, görüntünün genişliğinin yarısı (w / 2) ve yüksekliğinin yarısı (h / 2) olarak belirlenir\n",
    "M = cv2.getRotationMatrix2D(center, 13, scale  =1.1)#Bu satırda, cv2.getRotationMatrix2D() fonksiyonu kullanılarak bir dönüşüm matrisi (M) \n",
    "#oluşturulur. Bu fonksiyon, belirtilen merkez etrafında belirli bir açıda döndürme işlemi için bir dönüşüm matrisi döndürür. \n",
    "#İlk parametre, döndürme merkezi noktasıdır (center), ikinci parametre döndürme açısıdır (13 derece) ve üçüncü parametre ise ölçekleme faktörüdür \n",
    "#(scale=1.1). Ölçekleme faktörü, dönüştürülmüş görüntünün boyutunu belirler.\n",
    "rotated = cv2.warpAffine(gray_image, M, (w, h))#Bu satırda, cv2.warpAffine() fonksiyonu kullanılarak dönüştürülmüş bir görüntü oluşturulur. Bu fonksiyon, belirtilen dönüşüm matrisini (M) kullanarak görüntüyü döndürür. gray_image, dönüşüm işleminden geçirilecek olan gri tonlamalı görüntüdür.\n",
    "#Üçüncü parametre, dönüşüm sonucu oluşacak görüntünün boyutlarını belirtir ((w, h)).\n",
    "plt.imshow(rotated) #Bu satırda, matplotlib kütüphanesi kullanılarak döndürülmüş görüntü gösterilir.\n",
    "plt.show() #Bu satırda, matplotlib kütüphanesi kullanılarak oluşturulan görüntü ekranda gösterilir."
   ]
  },
  {
   "cell_type": "code",
   "execution_count": null,
   "id": "1b421299-93ba-4bd3-b834-9b7e6a312c1e",
   "metadata": {},
   "outputs": [],
   "source": [
    "img = cv2.imread(img_path) #: Bu satırda, belirtilen dosya yolundaki bir görüntü dosyası (img_path) cv2.imread() fonksiyonu kullanılarak okunur ve img adlı bir değişkene atanır.\n",
    "gray_image = cv2.cvtColor(img, cv2.COLOR_BGR2GRAY)#Bu satırda, cv2.cvtColor() fonksiyonu kullanılarak okunan renkli görüntü gri tonlamalı bir görüntüye dönüştürülür. cv2.COLOR_BGR2GRAY parametresi, dönüşümün BGR renk uzayından gri tonlamalı bir renk uzayına yapılmasını belirtir.\n",
    "(thresh, output2) = cv2.threshold(gray_image, 200, 255, cv2.THRESH_BINARY)#: Bu satırda, cv2.threshold() fonksiyonu kullanılarak gri tonlamalı görüntü üzerine bir eşikleme (thresholding) işlemi uygulanır. Bu işlem, görüntüdeki piksel değerlerini belirli bir eşik değerine göre karar verir. Eğer piksel değeri eşik değerinden büyükse, piksel değeri maksimum değer olarak belirlenir (255), aksi halde piksel değeri minimum değer olarak belirlenir (0). Bu işlem sonucunda bir eşik değeri (thresh) ve eşiklenmiş bir görüntü (output2) elde edilir.\n",
    "output2 = cv2.GaussianBlur(output2, (5, 5), 3)#u satırda, cv2.GaussianBlur() fonksiyonu kullanılarak eşiklenmiş görüntüye bir Gauss bulanıklığı uygulanır. Gauss bulanıklığı, görüntünün pürüzsüzleştirilmesi için kullanılan bir bulanıklık işlemidir. Bu işlem, görüntüdeki gürültüyü azaltır.\n",
    "output2 = cv2.Canny(output2, 180, 255)# Bu satırda, cv2.Canny() fonksiyonu kullanılarak kenar tespiti işlemi uygulanır. Canny kenar tespiti, görüntüdeki kenarları bulmak için kullanılan bir kenar tespiti algoritmasıdır. İki eşik değeri belirtilir: düşük eşik değeri (180) ve yüksek eşik değeri (255). Bu değerler arasındaki pikseller \"zayıf kenar pikselleri\" olarak kabul edilir ve daha sonra güçlü kenar pikselleriyle bağlantılıysa kenar olarak kabul edilirler.\n",
    "plt.imshow(output2)#Bu satırda, matplotlib kütüphanesi kullanılarak elde edilen sonuç (output2) gösterilir.\n",
    "plt.show()# Bu satırda, matplotlib kütüphanesi kullanılarak oluşturulan sonuç görüntüsü ekranda gösterilir."
   ]
  },
  {
   "cell_type": "code",
   "execution_count": null,
   "id": "780699fa-ba1e-4afe-98ed-cca0059e16de",
   "metadata": {},
   "outputs": [],
   "source": [
    "lines = cv2.HoughLinesP(output2, 1, np.pi/180,30)#cv2.HoughLinesP() fonksiyonu kullanılarak Hough dönüşümü uygulanır. Bu dönüşüm, kenar tespiti işlemi uygulanmış bir görüntü üzerinde çizgilerin tespit edilmesini sağlar. İlk parametre, kenar tespiti yapılmış görüntüdür (output2). İkinci parametre, çizgilerin piksel birimindeki hassasiyetini belirtir. Üçüncü parametre, radyan cinsinden birim başına açı hassasiyetini belirtir. Dördüncü parametre, çizgilerin minimum uzunluğunu belirtir.\n",
    "for line in lines:#Hough dönüşümü sonucunda bulunan çizgiler üzerinde döngü oluşturulur.\n",
    "    x1,y1,x2,y2 = line[0]#Her bir çizgi için başlangıç ve bitiş koordinatları (x1, y1, x2, y2) çizgi listesinden alınır.\n",
    "    cv2.line(img,(x1,y1),(x2,y2),(0,255,0),4)#cv2.line() fonksiyonu kullanılarak orijinal renkli görüntü üzerine çizgiler çizilir. İlk parametre, çizgiyi çizilecek olan görüntü (img) dir. İkinci ve üçüncü parametreler, çizginin başlangıç ve bitiş noktalarını belirtir. Dördüncü parametre, çizginin rengini belirtir (BGR formatında). Beşinci parametre, çizginin kalınlığını belirtir.\n",
    "plt.imshow(img)#Matplotlib kullanılarak çizilmiş olan görüntü ekranda gösterilir."
   ]
  },
  {
   "cell_type": "code",
   "execution_count": null,
   "id": "f4392b19-df68-4bf0-8974-6baead62cb74",
   "metadata": {},
   "outputs": [],
   "source": [
    "kamera_baglantisi = 0#Kameranın bağlı olduğu bağlantı noktasını belirtir. Bu, varsayılan olarak 0'dır ve genellikle bilgisayarın birincil kamerasını temsil eder. Ancak birden fazla kamera varsa, bu değer değiştirilebilir\n",
    "kamera = cv2.VideoCapture(kamera_baglantisi)#cv2.VideoCapture() fonksiyonuyla, belirtilen bağlantı noktasına sahip bir VideoCapture nesnesi oluşturulur. Bu, kameraya erişimi sağlar.\n",
    "while kamera.isOpened():# Kamera açık olduğu sürece bir döngü başlatılır. Kamera kapatıldığında (isOpened() False döndüğünde) döngü sona erer.\n",
    "    ret, frame = kamera.read()#kamera.read() fonksiyonuyla, kameradan bir kare okunur. ret, okuma işleminin başarılı olup olmadığını gösteren bir boolean değerdir ve frame ise okunan kareyi temsil eder.\n",
    "    if ret:#Eğer kare başarılı bir şekilde okunduysa (ret True ise), cv2.imshow() fonksiyonu kullanılarak kare ekranda gösterilir.\n",
    "        cv2.imshow('Kamera', frame)\n",
    "    if cv2.waitKey(1) & 0xFF == ord('q'):#Kullanıcının 'q' tuşuna basarak veya pencereyi kapatıp çıkmak istediğini kontrol eder. Eğer 'q' tuşuna basıldıysa veya pencere kapatıldıysa, döngüden çıkılır ve program sona erer.\n",
    "        break\n",
    "kamera.release()#Döngüden çıkıldığında, kamera nesnesi serbest bırakılır. Bu, kameranın kullanımdan kaldırılmasını sağlar.\n",
    "cv2.destroyAllWindows()#Tüm açık pencereler kapatılır ve program sonlandırılır."
   ]
  },
  {
   "cell_type": "code",
   "execution_count": null,
   "id": "42a66bc3-468c-44c7-ace2-f83b2d611b61",
   "metadata": {},
   "outputs": [],
   "source": [
    "kamera_baglantisi = 0#Kameranın bağlı olduğu bağlantı noktasını belirtir. Bu, varsayılan olarak 0'dır ve genellikle bilgisayarın birincil kamerasını temsil eder. Ancak birden fazla kamera varsa, bu değer değiştirilebilir\n",
    "kamera = cv2.VideoCapture(kamera_baglantisi)#cv2.VideoCapture() fonksiyonuyla, belirtilen bağlantı noktasına sahip bir VideoCapture nesnesi oluşturulur. Bu, kameraya erişimi sağlar.\n",
    "while kamera.isOpened():#Kamera açık olduğu sürece bir döngü başlatılır. Kamera kapatıldığında (isOpened() False döndüğünde) döngü sona erer.\n",
    "    ret, frame = kamera.read()#fonksiyonuyla, kameradan bir kare okunur. ret, okuma işleminin başarılı olup olmadığını gösteren bir boolean değerdir ve frame ise okunan kareyi temsil eder.\n",
    "    if ret:\n",
    "        gray_frame = cv2.cvtColor(frame, cv2.COLOR_BGR2GRAY)#Eğer kare başarılı bir şekilde okunduysa (ret True ise), cv2.cvtColor() fonksiyonu kullanılarak kare siyah beyaz yapılır. cv2.COLOR_BGR2GRAY parametresi ile renk uzayının BGR'den (Mavi, Yeşil, Kırmızı) gri tonlamalıya dönüştürülmesi sağlanır.\n",
    "        cv2.imshow('Kamera', gray_frame)#Siyah beyaz kare, cv2.imshow() fonksiyonu ile 'Kamera' başlığı altında ekranda gösterilir.\n",
    "    if cv2.waitKey(1) & 0xFF == ord('q'):#ullanıcının 'q' tuşuna basarak veya pencereyi kapatıp çıkmak istediğini kontrol eder. Eğer 'q' tuşuna basıldıysa veya pencere kapatıldıysa, döngüden çıkılır ve program sona erer.\n",
    "        break\n",
    "kamera.release()#Döngüden çıkıldığında, kamera nesnesi serbest bırakılır. Bu, kameranın kullanımdan kaldırılmasını sağlar.\n",
    "cv2.destroyAllWindows()#Son olarak, tüm açık pencereler kapatılır ve program sonlandırılır."
   ]
  },
  {
   "cell_type": "code",
   "execution_count": null,
   "id": "39071b4b-7e50-4920-945c-8af91e227959",
   "metadata": {},
   "outputs": [],
   "source": [
    "yuz_cascadesi = cv2.CascadeClassifier(cv2.data.haarcascades + 'haarcascade_frontalface_default.xml')#Önceden eğitilmiş yüz tanıma modelini yüklüyor. Bu model, yüzleri tespit etmek için kullanılacak.\n",
    "kamera_baglantisi = 0#Kameranın bağlı olduğu bağlantı noktasını belirliyor. Bu, varsayılan olarak 0'dır ve genellikle bilgisayarın birincil kamerasını temsil eder.\n",
    "kamera = cv2.VideoCapture(kamera_baglantisi)#cv2.VideoCapture() fonksiyonuyla kamera nesnesi oluşturuluyor. Bu, kameradan görüntü almak için kullanılacak.\n",
    "while kamera.isOpened():#Kamera açık olduğu sürece bir döngü başlatılır.\n",
    "    ret, frame = kamera.read()#Kameradan bir kare okunur. ret, okuma işleminin başarılı olup olmadığını gösterir ve frame okunan kareyi temsil eder.\n",
    "    if ret:\n",
    "        gray_frame = cv2.cvtColor(frame, cv2.COLOR_BGR2GRAY)#Okunan kare gri tonlamalıya dönüştürülür. Yüz tanıma işlemi genellikle gri tonlamalı görüntüler üzerinde daha iyi çalışır.\n",
    "        yuzler = yuz_cascadesi.detectMultiScale(gray_frame, scaleFactor=1.1, minNeighbors=5, minSize=(30, 30))#Gri tonlamalı görüntü üzerinde yüzler tespit edilir. detectMultiScale() fonksiyonu, yüzleri tespit etmek için belirli parametrelerle birlikte kullanılır.\n",
    "        for (x, y, w, h) in yuzler:#Tespit edilen her yüz için bir döngü başlatılır. x, y, w, ve h sırasıyla yüzün sol üst koordinatları ve genişlik ve yüksekliğini temsil eder.\n",
    "            cv2.rectangle(frame, (x, y), (x+w, y+h), (0, 255, 0), 2)#Her bir yüz için bir dikdörtgen çizilir. Bu, orijinal görüntü üzerine yüzün etrafına bir çerçeve ekler.\n",
    "        cv2.imshow('Yuz Tanima', frame)#Her bir karedeki yüzler, orijinal görüntü üzerine dikdörtgenler eklenmiş olarak gösterilir.\n",
    "    if cv2.waitKey(1) & 0xFF == ord('q'):# Kullanıcı 'q' tuşuna basarak veya pencereyi kapatıp çıkmak isterse döngü sonlandırılır.\n",
    "        break\n",
    "kamera.release()#kullanılarak VideoCapture nesnesi serbest bırakılarak kamera kaynaklarından ve sistem kaynaklarından (bellek, işlemci vb.) tasarruf edilir ve programın sağlıklı bir şekilde sonlanması sağlanır.\n",
    "cv2.destroyAllWindows()#açık olan tüm OpenCV pencerelerini kapatır.\n",
    "\n"
   ]
  },
  {
   "cell_type": "code",
   "execution_count": null,
   "id": "947cfdb4-7757-408b-a599-bf40a73330b4",
   "metadata": {},
   "outputs": [],
   "source": []
  },
  {
   "cell_type": "code",
   "execution_count": null,
   "id": "fffc23d4-6bc7-412e-b776-cde8891ec8a7",
   "metadata": {},
   "outputs": [],
   "source": []
  }
 ],
 "metadata": {
  "kernelspec": {
   "display_name": "Python 3 (ipykernel)",
   "language": "python",
   "name": "python3"
  },
  "language_info": {
   "codemirror_mode": {
    "name": "ipython",
    "version": 3
   },
   "file_extension": ".py",
   "mimetype": "text/x-python",
   "name": "python",
   "nbconvert_exporter": "python",
   "pygments_lexer": "ipython3",
   "version": "3.11.2"
  }
 },
 "nbformat": 4,
 "nbformat_minor": 5
}
